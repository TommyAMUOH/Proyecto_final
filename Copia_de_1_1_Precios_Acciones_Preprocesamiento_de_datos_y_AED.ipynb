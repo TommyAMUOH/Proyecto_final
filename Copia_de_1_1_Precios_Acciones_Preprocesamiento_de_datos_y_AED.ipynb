{
  "nbformat": 4,
  "nbformat_minor": 0,
  "metadata": {
    "colab": {
      "provenance": []
    },
    "kernelspec": {
      "name": "python3",
      "display_name": "Python 3"
    }
  },
  "cells": [
    {
      "cell_type": "code",
      "metadata": {
        "id": "r3dkGmaOy4Tj"
      },
      "source": [
        "from google.colab import drive\n",
        "drive.mount('/content/drive')"
      ],
      "execution_count": null,
      "outputs": []
    },
    {
      "cell_type": "code",
      "metadata": {
        "id": "UParaEW2yZ7O"
      },
      "source": [
        "import numpy as np\n",
        "\n",
        "import pandas as pd\n",
        "import matplotlib.pyplot as plt\n",
        "import seaborn as sns"
      ],
      "execution_count": null,
      "outputs": []
    },
    {
      "cell_type": "markdown",
      "metadata": {
        "id": "j0TEt-h-VJcE"
      },
      "source": [
        "#Preprocesamiento de datos"
      ]
    },
    {
      "cell_type": "markdown",
      "metadata": {
        "id": "3Rr1pxEPYSdU"
      },
      "source": [
        "##Carga de datos"
      ]
    },
    {
      "cell_type": "code",
      "metadata": {
        "id": "n5AreMqlzaXd"
      },
      "source": [
        "AAPL = pd.read_csv(\"/content/drive/MyDrive/Database/AAPL.csv\")\n",
        "TSLA = pd.read_csv(\"/content/drive/MyDrive/Database/TSLA.csv\")\n",
        "GOOG = pd.read_csv(\"/content/drive/MyDrive/Database/GOOG.csv\")\n",
        "MSFT = pd.read_csv(\"/content/drive/MyDrive/Database/MSFT.csv\")\n",
        "AMZN = pd.read_csv(\"/content/drive/MyDrive/Database/AMZN.csv\")"
      ],
      "execution_count": null,
      "outputs": []
    },
    {
      "cell_type": "markdown",
      "metadata": {
        "id": "wPovSDOEVf_o"
      },
      "source": [
        "##Apple: Precios de acciones"
      ]
    },
    {
      "cell_type": "code",
      "metadata": {
        "id": "67FGAZtuz4XH"
      },
      "source": [
        "AAPL.head()"
      ],
      "execution_count": null,
      "outputs": []
    },
    {
      "cell_type": "code",
      "metadata": {
        "id": "cGzCr4wqz7aN"
      },
      "source": [
        "AAPL.info()"
      ],
      "execution_count": null,
      "outputs": []
    },
    {
      "cell_type": "code",
      "metadata": {
        "id": "fWZV37Sf1dNI"
      },
      "source": [
        "# Drop NULL rows\n",
        "AAPL.dropna(inplace = True)"
      ],
      "execution_count": null,
      "outputs": []
    },
    {
      "cell_type": "code",
      "metadata": {
        "id": "vjqd4Iwv0Pd_"
      },
      "source": [
        "# Change Dtype of Columns\n",
        "AAPL[\"Date\"] = pd.to_datetime(AAPL[\"Date\"])\n",
        "AAPL[\"Volume\"] = AAPL[\"Volume\"].str.replace(',', '')\n",
        "AAPL = AAPL.astype({\"Open\": float, \"Volume\": float})"
      ],
      "execution_count": null,
      "outputs": []
    },
    {
      "cell_type": "code",
      "metadata": {
        "id": "nIW5x9nqk0_U"
      },
      "source": [
        "# Sort the Database by Date\n",
        "AAPL = AAPL.sort_values(by = 'Date', ignore_index = True)"
      ],
      "execution_count": null,
      "outputs": []
    },
    {
      "cell_type": "code",
      "metadata": {
        "id": "Ak7JL6j4Assr"
      },
      "source": [
        "# Drop rows having Date < '2015-01-01'\n",
        "AAPL = AAPL[AAPL[\"Date\"] >= '2015-01-01'].reset_index(drop = True)"
      ],
      "execution_count": null,
      "outputs": []
    },
    {
      "cell_type": "code",
      "metadata": {
        "id": "xi4cQyhi0Acu"
      },
      "source": [
        "AAPL.describe()"
      ],
      "execution_count": null,
      "outputs": []
    },
    {
      "cell_type": "markdown",
      "metadata": {
        "id": "8kogTb1BVp-s"
      },
      "source": [
        "##Tesla: Precios de acciones"
      ]
    },
    {
      "cell_type": "code",
      "metadata": {
        "id": "rsMsnDBR0K74"
      },
      "source": [
        "TSLA.head()"
      ],
      "execution_count": null,
      "outputs": []
    },
    {
      "cell_type": "code",
      "metadata": {
        "id": "jwT_7xZL4Czb"
      },
      "source": [
        "TSLA.info()"
      ],
      "execution_count": null,
      "outputs": []
    },
    {
      "cell_type": "code",
      "metadata": {
        "id": "4dDxwLbI4FEA"
      },
      "source": [
        "# Drop NULL rows\n",
        "TSLA.dropna(inplace = True)"
      ],
      "execution_count": null,
      "outputs": []
    },
    {
      "cell_type": "code",
      "metadata": {
        "id": "FlU7Ghku4Jfi"
      },
      "source": [
        "# Change Dtype of Columns\n",
        "TSLA[\"Date\"] = pd.to_datetime(TSLA[\"Date\"])\n",
        "TSLA[\"Volume\"] = TSLA[\"Volume\"].str.replace(',', '')\n",
        "TSLA = TSLA.astype({\"Open\": float, \"Volume\": float})"
      ],
      "execution_count": null,
      "outputs": []
    },
    {
      "cell_type": "code",
      "metadata": {
        "id": "CJ2UPRKnmD77"
      },
      "source": [
        "# Sort the Database by Date\n",
        "TSLA = TSLA.sort_values(by = 'Date', ignore_index = True)"
      ],
      "execution_count": null,
      "outputs": []
    },
    {
      "cell_type": "code",
      "metadata": {
        "id": "5Or3Gr3BBPht"
      },
      "source": [
        "# Drop rows having Date < '2015-01-01'\n",
        "TSLA = TSLA[TSLA[\"Date\"] >= '2015-01-01'].reset_index(drop = True)"
      ],
      "execution_count": null,
      "outputs": []
    },
    {
      "cell_type": "code",
      "metadata": {
        "id": "-t93vdN14TK0"
      },
      "source": [
        "TSLA.describe()"
      ],
      "execution_count": null,
      "outputs": []
    },
    {
      "cell_type": "markdown",
      "metadata": {
        "id": "h7XWFysRV_-k"
      },
      "source": [
        "##Google: Precios de acciones"
      ]
    },
    {
      "cell_type": "code",
      "metadata": {
        "id": "p6phOr5R4ddY"
      },
      "source": [
        "GOOG.head()"
      ],
      "execution_count": null,
      "outputs": []
    },
    {
      "cell_type": "code",
      "metadata": {
        "id": "TbE97Tls4g0A"
      },
      "source": [
        "GOOG.info()"
      ],
      "execution_count": null,
      "outputs": []
    },
    {
      "cell_type": "code",
      "metadata": {
        "id": "sSlF2Rce4k6m"
      },
      "source": [
        "# Drop NULL rows\n",
        "GOOG.dropna(inplace = True)"
      ],
      "execution_count": null,
      "outputs": []
    },
    {
      "cell_type": "code",
      "metadata": {
        "id": "1OnVQ3ru4qvD"
      },
      "source": [
        "# Change Dtype of Columns\n",
        "GOOG[\"Date\"] = pd.to_datetime(GOOG[\"Date\"])\n",
        "\n",
        "for col in [\"Open\", \"High\", \"Low\", \"Close\", \"Adj. Close\", \"Volume\"]:\n",
        "  GOOG[col] = GOOG[col].str.replace(',', '')\n",
        "\n",
        "GOOG = GOOG.astype({\"Open\": float, \"High\": float, \"Low\": float, \"Close\": float, \"Adj. Close\": float, \"Volume\": float})"
      ],
      "execution_count": null,
      "outputs": []
    },
    {
      "cell_type": "code",
      "metadata": {
        "id": "8cHQTwc4mNWR"
      },
      "source": [
        "# Sort the Database by Date\n",
        "GOOG = GOOG.sort_values(by = 'Date', ignore_index = True)"
      ],
      "execution_count": null,
      "outputs": []
    },
    {
      "cell_type": "code",
      "metadata": {
        "id": "73k4o-IiBXfu"
      },
      "source": [
        "# Drop rows having Date < '2015-01-01'\n",
        "GOOG = GOOG[GOOG[\"Date\"] >= '2015-01-01'].reset_index(drop = True)"
      ],
      "execution_count": null,
      "outputs": []
    },
    {
      "cell_type": "code",
      "metadata": {
        "id": "3OmnDam740zm"
      },
      "source": [
        "GOOG.describe()"
      ],
      "execution_count": null,
      "outputs": []
    },
    {
      "cell_type": "markdown",
      "metadata": {
        "id": "bUTepyI1WJBN"
      },
      "source": [
        "##Microsoft: Precios de acciones"
      ]
    },
    {
      "cell_type": "code",
      "metadata": {
        "id": "AeND8Xiv5eeZ"
      },
      "source": [
        "MSFT.head()"
      ],
      "execution_count": null,
      "outputs": []
    },
    {
      "cell_type": "code",
      "metadata": {
        "id": "0iUmq2ES9Yqk"
      },
      "source": [
        "MSFT.info()"
      ],
      "execution_count": null,
      "outputs": []
    },
    {
      "cell_type": "code",
      "metadata": {
        "id": "u3KkKKpE9bwQ"
      },
      "source": [
        "# Drop NULL rows\n",
        "MSFT.dropna(inplace = True)"
      ],
      "execution_count": null,
      "outputs": []
    },
    {
      "cell_type": "code",
      "metadata": {
        "id": "gB9yscuJ9gmy"
      },
      "source": [
        "# Change Dtype of Columns\n",
        "MSFT[\"Date\"] = pd.to_datetime(MSFT[\"Date\"])\n",
        "MSFT[\"Open\"] = MSFT[\"Open\"].str.replace(',', '')\n",
        "MSFT[\"Volume\"] = MSFT[\"Volume\"].str.replace(',', '')\n",
        "MSFT = MSFT.astype({\"Open\": float, \"Volume\": float})"
      ],
      "execution_count": null,
      "outputs": []
    },
    {
      "cell_type": "code",
      "metadata": {
        "id": "gyYJOqMHmRkj"
      },
      "source": [
        "# Sort the Database by Date\n",
        "MSFT = MSFT.sort_values(by = 'Date', ignore_index = True)"
      ],
      "execution_count": null,
      "outputs": []
    },
    {
      "cell_type": "code",
      "metadata": {
        "id": "f8614NTHBts-"
      },
      "source": [
        "# Drop rows having Date < '2015-01-01'\n",
        "MSFT = MSFT[MSFT[\"Date\"] >= '2015-01-01'].reset_index(drop = True)"
      ],
      "execution_count": null,
      "outputs": []
    },
    {
      "cell_type": "code",
      "metadata": {
        "id": "IkUwJqgZ92M5"
      },
      "source": [
        "MSFT.describe()"
      ],
      "execution_count": null,
      "outputs": []
    },
    {
      "cell_type": "markdown",
      "metadata": {
        "id": "wEerA__LWRDU"
      },
      "source": [
        "##Amazon: Precios de acciones"
      ]
    },
    {
      "cell_type": "code",
      "metadata": {
        "id": "YtlE7TjZ-HXT"
      },
      "source": [
        "AMZN.head()"
      ],
      "execution_count": null,
      "outputs": []
    },
    {
      "cell_type": "code",
      "metadata": {
        "id": "Tqtcgfwf-NdN"
      },
      "source": [
        "AMZN.info()"
      ],
      "execution_count": null,
      "outputs": []
    },
    {
      "cell_type": "code",
      "metadata": {
        "id": "w4qYALEL-PwL"
      },
      "source": [
        "# Drop NULL rows\n",
        "AMZN.dropna(inplace = True)"
      ],
      "execution_count": null,
      "outputs": []
    },
    {
      "cell_type": "code",
      "metadata": {
        "id": "45vEGCIa-Ugw"
      },
      "source": [
        "# Change Dtype of Columns\n",
        "AMZN[\"Date\"] = pd.to_datetime(AMZN[\"Date\"])\n",
        "\n",
        "for col in [\"Open\", \"High\", \"Low\", \"Close\", \"Adj. Close\", \"Volume\"]:\n",
        "  AMZN[col] = AMZN[col].str.replace(',', '')\n",
        "\n",
        "AMZN = AMZN.astype({\"Open\": float, \"High\": float, \"Low\": float, \"Close\": float, \"Adj. Close\": float, \"Volume\": float})"
      ],
      "execution_count": null,
      "outputs": []
    },
    {
      "cell_type": "code",
      "metadata": {
        "id": "OQ-2RHy7mV6I"
      },
      "source": [
        "# Sort the Database by Date\n",
        "AMZN = AMZN.sort_values(by = 'Date', ignore_index = True)"
      ],
      "execution_count": null,
      "outputs": []
    },
    {
      "cell_type": "code",
      "metadata": {
        "id": "tvUNKCSYBz5e"
      },
      "source": [
        "# Drop rows having Date < '2015-01-01'\n",
        "AMZN = AMZN[AMZN[\"Date\"] >= '2015-01-01'].reset_index(drop = True)"
      ],
      "execution_count": null,
      "outputs": []
    },
    {
      "cell_type": "code",
      "metadata": {
        "id": "iJe56pmj-qC1"
      },
      "source": [
        "AMZN.describe()"
      ],
      "execution_count": null,
      "outputs": []
    },
    {
      "cell_type": "markdown",
      "metadata": {
        "id": "G1TnSUJUWZjT"
      },
      "source": [
        "#Análisis exploratorio de datos"
      ]
    },
    {
      "cell_type": "code",
      "metadata": {
        "id": "TU5sBLoxHWWT"
      },
      "source": [
        "Companies = [AAPL, TSLA, GOOG, MSFT, AMZN]\n",
        "Companies_Title = [\"Apple\", \"Tesla\", \"Google\", \"Microsoft\", \"Amazon\"]"
      ],
      "execution_count": null,
      "outputs": []
    },
    {
      "cell_type": "code",
      "metadata": {
        "id": "Txroq1_o-tvd"
      },
      "source": [
        "# Lets view historical view of the closing prices\n",
        "\n",
        "plt.figure(figsize=(20, 12))\n",
        "for index, company in enumerate(Companies):\n",
        "  plt.subplot(3, 2, index + 1)\n",
        "  plt.plot(company[\"Date\"], company[\"Adj. Close\"])\n",
        "  plt.title(Companies_Title[index])\n",
        "  plt.ylabel('Adj. Close')"
      ],
      "execution_count": null,
      "outputs": []
    },
    {
      "cell_type": "markdown",
      "metadata": {
        "id": "-EYsfC9dfbHd"
      },
      "source": [
        "Podemos ver en el gráfico anterior que las acciones de Telsa tienen un crecimiento tremendo en el periodo 2020-2021.\n",
        "\n",
        "Si nos atenemos a las noticias, puede deberse a\n",
        "\n",
        "1.   Las ventas de créditos de emisiones\n",
        "2.   La entrada de Tesla en el mercado de los SUV compactos de rápido crecimiento\n",
        "3.   Inicio de la producción en China\n",
        "\n",
        "En cuanto al resto de empresas, podemos ver que COVID-19 es el principal factor que afecta al periodo 2020-2021."
      ]
    },
    {
      "cell_type": "code",
      "metadata": {
        "id": "T_7QBBszJZdD"
      },
      "source": [
        "# Now lets plot the total volume of stock being traded each day\n",
        "\n",
        "plt.figure(figsize=(20, 12))\n",
        "for index, company in enumerate(Companies):\n",
        "  plt.subplot(3, 2, index + 1)\n",
        "  plt.plot(company[\"Date\"], company[\"Volume\"])\n",
        "  plt.title(Companies_Title[index])\n",
        "  plt.ylabel('Volume')"
      ],
      "execution_count": null,
      "outputs": []
    },
    {
      "cell_type": "markdown",
      "metadata": {
        "id": "RPEReM4fhBsj"
      },
      "source": [
        "Ahora que hemos visto las visualizaciones del precio de cierre y el volumen negociado cada día, vamos a calcular la media móvil de la acción."
      ]
    },
    {
      "cell_type": "markdown",
      "metadata": {
        "id": "dMJUuA_GlYke"
      },
      "source": [
        "### ¿Cuál fue el promedio móvil de las distintas acciones?"
      ]
    },
    {
      "cell_type": "code",
      "metadata": {
        "id": "dQ2TZ-0uLJRh"
      },
      "source": [
        "Moving_Average_Day = [10, 20, 50]\n",
        "for Moving_Average in Moving_Average_Day:\n",
        "  for company in Companies:\n",
        "    column_name = f'Moving Average for {Moving_Average} days'\n",
        "    company[column_name] = company[\"Adj. Close\"].rolling(Moving_Average).mean()"
      ],
      "execution_count": null,
      "outputs": []
    },
    {
      "cell_type": "code",
      "metadata": {
        "id": "KuMDzBetNwbo"
      },
      "source": [
        "plt.figure(figsize=(20, 12))\n",
        "for index, company in enumerate(Companies):\n",
        "  plt.subplot(3, 2, index + 1)\n",
        "  plt.plot(company[\"Date\"], company[\"Adj. Close\"])\n",
        "  plt.plot(company[\"Date\"], company[\"Moving Average for 10 days\"])\n",
        "  plt.plot(company[\"Date\"], company[\"Moving Average for 20 days\"])\n",
        "  plt.plot(company[\"Date\"], company[\"Moving Average for 50 days\"])\n",
        "  plt.title(Companies_Title[index])\n",
        "  plt.legend((\"Adj. Close\", \"Moving Average for 10 days\", \"Moving Average for 20 days\", \"Moving Average for 50 days\"))"
      ],
      "execution_count": null,
      "outputs": []
    },
    {
      "cell_type": "markdown",
      "metadata": {
        "id": "lUkLurJamh4Q"
      },
      "source": [
        "### ¿Cuál fue la rentabilidad diaria promedio de la acción?"
      ]
    },
    {
      "cell_type": "markdown",
      "metadata": {
        "id": "Y6tPCkdZmzdX"
      },
      "source": [
        "Ahora que hemos hecho un análisis preliminar, vamos a profundizar un poco más. Ahora vamos a analizar el riesgo de la acción. Para ello tendremos que fijarnos más en los cambios diarios de la acción, y no sólo en su valor absoluto."
      ]
    },
    {
      "cell_type": "code",
      "metadata": {
        "id": "GqU9sJhkOuF6"
      },
      "source": [
        "# pct_change() function calculates the percentage change between the current and a prior element.\n",
        "# This function by default calculates the percentage change from the immediately previous row.\n",
        "\n",
        "for company in Companies:\n",
        "  company[\"Daily Return\"] = company[\"Adj. Close\"].pct_change()"
      ],
      "execution_count": null,
      "outputs": []
    },
    {
      "cell_type": "code",
      "metadata": {
        "id": "ndGIffSkPCSX"
      },
      "source": [
        "plt.figure(figsize=(20, 12))\n",
        "for index, company in enumerate(Companies):\n",
        "  plt.subplot(3, 2, index + 1)\n",
        "  plt.plot(company[\"Date\"], company[\"Daily Return\"])\n",
        "  plt.title(Companies_Title[index])\n",
        "  plt.ylabel('Daily Return')"
      ],
      "execution_count": null,
      "outputs": []
    },
    {
      "cell_type": "markdown",
      "metadata": {
        "id": "7ian-g3OoUDa"
      },
      "source": [
        "Veamos ahora la rentabilidad media diaria mediante un histograma."
      ]
    },
    {
      "cell_type": "code",
      "metadata": {
        "id": "aCZZHoWjPWwo"
      },
      "source": [
        "# distplot is a deprecated function, so to ignore warnings, the filterwarnings function is used.\n",
        "\n",
        "import warnings\n",
        "warnings.filterwarnings('ignore')\n",
        "\n",
        "plt.figure(figsize=(20, 15))\n",
        "for index, company in enumerate(Companies):\n",
        "  plt.subplot(3, 2, index + 1)\n",
        "  sns.distplot(company[\"Daily Return\"].dropna(), color = \"purple\")\n",
        "  plt.title(Companies_Title[index])"
      ],
      "execution_count": null,
      "outputs": []
    },
    {
      "cell_type": "markdown",
      "metadata": {
        "id": "hB1sENYBGY1u"
      },
      "source": [
        "La curtosis es una medida estadística que define en qué medida las colas de una distribución difieren de las colas de una distribución normal. En otras palabras, la curtosis determina si las colas de una distribución contienen valores extremos."
      ]
    },
    {
      "cell_type": "code",
      "metadata": {
        "id": "9Nr7ExXjB1ng"
      },
      "source": [
        "print(\"Kurtosis Value\")\n",
        "for index, company in enumerate(Companies):\n",
        "  print(f'{Companies_Title[index]}: {company[\"Daily Return\"].kurtosis()}')"
      ],
      "execution_count": null,
      "outputs": []
    },
    {
      "cell_type": "markdown",
      "metadata": {
        "id": "rlKuy38GAqbk"
      },
      "source": [
        "El gráfico anterior y el valor positivo de la curtosis indican que la obtención de valores extremos de rentabilidad diaria es poco frecuente."
      ]
    },
    {
      "cell_type": "markdown",
      "metadata": {
        "id": "ekiyGKRkqJrP"
      },
      "source": [
        "### ¿Cuál fue la correlación entre el precio de cierre de diferentes acciones?"
      ]
    },
    {
      "cell_type": "code",
      "metadata": {
        "id": "cACinU88P-w0"
      },
      "source": [
        "# Companies_return contain closing price of all the companies\n",
        "Companies_returns = pd.DataFrame()\n",
        "Companies_returns[\"AAPL\"] = AAPL[\"Adj. Close\"]\n",
        "Companies_returns[\"TSLA\"] = TSLA[\"Adj. Close\"]\n",
        "Companies_returns[\"GOOG\"] = GOOG[\"Adj. Close\"]\n",
        "Companies_returns[\"MSFT\"] = MSFT[\"Adj. Close\"]\n",
        "Companies_returns[\"AMZN\"] = AMZN[\"Adj. Close\"]\n",
        "Companies_returns.head()"
      ],
      "execution_count": null,
      "outputs": []
    },
    {
      "cell_type": "code",
      "metadata": {
        "id": "DH_kK5CjR89D"
      },
      "source": [
        "# Companies_Daily_returns contains percentage daily returns of all the companies\n",
        "Companies_Daily_returns = Companies_returns.pct_change()\n",
        "Companies_Daily_returns.head()"
      ],
      "execution_count": null,
      "outputs": []
    },
    {
      "cell_type": "markdown",
      "metadata": {
        "id": "DSq4s7Q_s19N"
      },
      "source": [
        "Ahora, hagamos un gráfico de correlación, para obtener valores numéricos reales de la correlación entre el precio de cierre de las acciones"
      ]
    },
    {
      "cell_type": "code",
      "metadata": {
        "id": "xd_uqJfNTEOD"
      },
      "source": [
        "sns.heatmap(Companies_returns.corr(), annot=True, cmap=\"YlGnBu\")"
      ],
      "execution_count": null,
      "outputs": []
    },
    {
      "cell_type": "markdown",
      "metadata": {
        "id": "xYoMurRktMUf"
      },
      "source": [
        "Por último, hagamos un gráfico de correlación, para obtener valores numéricos reales de la correlación entre los rendimientos diarios de las acciones."
      ]
    },
    {
      "cell_type": "code",
      "metadata": {
        "id": "uBLA3r3iT8xe"
      },
      "source": [
        "sns.heatmap(Companies_Daily_returns.corr(), annot=True, cmap=\"YlGnBu\")"
      ],
      "execution_count": null,
      "outputs": []
    },
    {
      "cell_type": "markdown",
      "metadata": {
        "id": "IAKbeVcnrtxA"
      },
      "source": [
        "Del gráfico anterior se desprende que Microsoft y Google presentan la mayor correlación en los rendimientos diarios de las acciones."
      ]
    },
    {
      "cell_type": "markdown",
      "metadata": {
        "id": "0vM1L-cJxbRU"
      },
      "source": [
        "### ¿Cuánto valor arriesgamos al invertir en una acción concreta?"
      ]
    },
    {
      "cell_type": "markdown",
      "metadata": {
        "id": "gklKhUQCyfvG"
      },
      "source": [
        "Hay muchas formas de cuantificar el riesgo, una de las más básicas utilizando la información que hemos recopilado sobre los rendimientos porcentuales diarios es comparando el rendimiento esperado con la desviación típica de los rendimientos diarios."
      ]
    },
    {
      "cell_type": "code",
      "metadata": {
        "id": "23Ja7rQfUSJO"
      },
      "source": [
        "Returns = Companies_Daily_returns.dropna()\n",
        "\n",
        "plt.figure(figsize=(20, 5))\n",
        "plt.scatter(Returns.mean(), Returns.std())\n",
        "plt.xlabel('Expected return')\n",
        "plt.ylabel('Risk')\n",
        "\n",
        "for label, x, y in zip(Companies_Title, Returns.mean(), Returns.std()):\n",
        "    plt.annotate(label, xy = (x, y), xytext = (10, 0), textcoords = 'offset points')"
      ],
      "execution_count": null,
      "outputs": []
    },
    {
      "cell_type": "markdown",
      "metadata": {
        "id": "oGONmkHF0DTf"
      },
      "source": [
        "En el gráfico anterior, podemos ver que Tesla tiene la mayor rentabilidad esperada y el mayor factor de riesgo. Google tiene la menor rentabilidad esperada y el menor factor de riesgo."
      ]
    },
    {
      "cell_type": "markdown",
      "source": [
        "# CODIGOS EXTRAS PARA ANALISIS"
      ],
      "metadata": {
        "id": "OblYQ5OcgzEv"
      }
    },
    {
      "cell_type": "markdown",
      "source": [
        "# 1. Resumen de Precios de Cierre Ajustados\n",
        "Este código generará un resumen estadístico de los precios de cierre ajustados para cada empresa."
      ],
      "metadata": {
        "id": "rR7z2d_yg2Li"
      }
    },
    {
      "cell_type": "code",
      "source": [
        "for company, title in zip(Companies, Companies_Title):\n",
        "    print(f\"Resumen de Precios de Cierre Ajustados para {title}\")\n",
        "    print(company[\"Adj. Close\"].describe())\n",
        "    print(\"\\n\")\n"
      ],
      "metadata": {
        "id": "phZp3G-qg14s"
      },
      "execution_count": null,
      "outputs": []
    },
    {
      "cell_type": "markdown",
      "source": [
        "# 2. Análisis de Volumen Negociado\n",
        "Este código proporcionará un resumen del volumen negociado diario."
      ],
      "metadata": {
        "id": "WSea2zaHg7f2"
      }
    },
    {
      "cell_type": "code",
      "source": [
        "for company, title in zip(Companies, Companies_Title):\n",
        "    print(f\"Resumen de Volumen Negociado para {title}\")\n",
        "    print(company[\"Volume\"].describe())\n",
        "    print(\"\\n\")\n"
      ],
      "metadata": {
        "id": "PTPhLDKehN0Y"
      },
      "execution_count": null,
      "outputs": []
    },
    {
      "cell_type": "markdown",
      "source": [
        "# 3. Análisis de Promedios Móviles\n",
        "Este código calculará los promedios móviles y proporcionará un resumen."
      ],
      "metadata": {
        "id": "JmdHqPLmhOjd"
      }
    },
    {
      "cell_type": "code",
      "source": [
        "Moving_Average_Day = [10, 20, 50]\n",
        "for company, title in zip(Companies, Companies_Title):\n",
        "    print(f\"Promedios Móviles para {title}\")\n",
        "    for Moving_Average in Moving_Average_Day:\n",
        "        column_name = f'Moving Average for {Moving_Average} days'\n",
        "        print(f\"{column_name}: {company[column_name].dropna().describe()}\")\n",
        "    print(\"\\n\")\n"
      ],
      "metadata": {
        "id": "7wUx4_oahRsM"
      },
      "execution_count": null,
      "outputs": []
    },
    {
      "cell_type": "markdown",
      "source": [
        "# 4. Resumen de Rentabilidad Diaria\n",
        "Este código proporcionará un resumen de la rentabilidad diaria para cada empresa."
      ],
      "metadata": {
        "id": "Dkmal2x0hT8z"
      }
    },
    {
      "cell_type": "code",
      "source": [
        "for company, title in zip(Companies, Companies_Title):\n",
        "    print(f\"Resumen de Rentabilidad Diaria para {title}\")\n",
        "    print(company[\"Daily Return\"].describe())\n",
        "    print(\"\\n\")\n"
      ],
      "metadata": {
        "id": "ngkoxp8yhVYD"
      },
      "execution_count": null,
      "outputs": []
    },
    {
      "cell_type": "markdown",
      "source": [
        "# 5. Análisis de Correlación\n",
        "Este código proporcionará una matriz de correlación de los precios de cierre ajustados."
      ],
      "metadata": {
        "id": "vfW8jhp_hXIk"
      }
    },
    {
      "cell_type": "code",
      "source": [
        "print(\"Correlación de Precios de Cierre Ajustados:\")\n",
        "print(Companies_returns.corr())\n",
        "print(\"\\n\")\n",
        "\n",
        "print(\"Correlación de Rentabilidad Diaria:\")\n",
        "print(Companies_Daily_returns.corr())\n"
      ],
      "metadata": {
        "id": "pcLnNWtRhY8G"
      },
      "execution_count": null,
      "outputs": []
    },
    {
      "cell_type": "markdown",
      "source": [
        "# 6. Riesgo vs Rendimiento\n",
        "Este código calculará el rendimiento esperado y el riesgo (desviación estándar) para cada acción."
      ],
      "metadata": {
        "id": "t9ToL7XXhaps"
      }
    },
    {
      "cell_type": "code",
      "source": [
        "print(\"Riesgo vs Rendimiento:\")\n",
        "for title, symbol in zip(Companies_Title, ['AAPL', 'TSLA', 'GOOG', 'MSFT', 'AMZN']):\n",
        "    mean_return = Returns[symbol].mean()\n",
        "    risk = Returns[symbol].std()\n",
        "    print(f\"{title} - Rendimiento Esperado: {mean_return}, Riesgo: {risk}\")\n"
      ],
      "metadata": {
        "id": "2LDwgrtEhdqp"
      },
      "execution_count": null,
      "outputs": []
    }
  ]
}